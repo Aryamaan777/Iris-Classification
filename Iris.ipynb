{
  "nbformat": 4,
  "nbformat_minor": 0,
  "metadata": {
    "colab": {
      "name": "Iris.ipynb",
      "provenance": [],
      "authorship_tag": "ABX9TyMG+r1u0LV1n2/LeBb+XNoV",
      "include_colab_link": true
    },
    "kernelspec": {
      "name": "python3",
      "display_name": "Python 3"
    }
  },
  "cells": [
    {
      "cell_type": "markdown",
      "metadata": {
        "id": "view-in-github",
        "colab_type": "text"
      },
      "source": [
        "<a href=\"https://colab.research.google.com/github/Aryamaan777/Iris-Classification/blob/master/Iris.ipynb\" target=\"_parent\"><img src=\"https://colab.research.google.com/assets/colab-badge.svg\" alt=\"Open In Colab\"/></a>"
      ]
    },
    {
      "cell_type": "code",
      "metadata": {
        "id": "_r6KacJuy4T0",
        "colab_type": "code",
        "outputId": "c1f5fe67-fa0b-4589-df39-75579b7737ab",
        "colab": {
          "base_uri": "https://localhost:8080/",
          "height": 34
        }
      },
      "source": [
        "import tensorflow as tf\n",
        "print(tf.__version__)"
      ],
      "execution_count": 1,
      "outputs": [
        {
          "output_type": "stream",
          "text": [
            "2.2.0-rc3\n"
          ],
          "name": "stdout"
        }
      ]
    },
    {
      "cell_type": "code",
      "metadata": {
        "id": "0oVidSuny_-5",
        "colab_type": "code",
        "colab": {}
      },
      "source": [
        "import pandas as pd\n",
        "from tensorflow.keras.layers import Input,Dense\n",
        "from sklearn.model_selection import train_test_split\n",
        "from tensorflow.keras.models import Model\n",
        "from sklearn.preprocessing import LabelEncoder as le"
      ],
      "execution_count": 0,
      "outputs": []
    },
    {
      "cell_type": "code",
      "metadata": {
        "id": "VsX5-jz4zDv8",
        "colab_type": "code",
        "colab": {}
      },
      "source": [
        "data=pd.read_csv(\"/content/IRIS.csv\")"
      ],
      "execution_count": 0,
      "outputs": []
    },
    {
      "cell_type": "code",
      "metadata": {
        "id": "AbwKjjTKzPU2",
        "colab_type": "code",
        "outputId": "961b039c-7749-48ed-c4e2-079b62654beb",
        "colab": {
          "base_uri": "https://localhost:8080/",
          "height": 204
        }
      },
      "source": [
        "data.head()"
      ],
      "execution_count": 4,
      "outputs": [
        {
          "output_type": "execute_result",
          "data": {
            "text/html": [
              "<div>\n",
              "<style scoped>\n",
              "    .dataframe tbody tr th:only-of-type {\n",
              "        vertical-align: middle;\n",
              "    }\n",
              "\n",
              "    .dataframe tbody tr th {\n",
              "        vertical-align: top;\n",
              "    }\n",
              "\n",
              "    .dataframe thead th {\n",
              "        text-align: right;\n",
              "    }\n",
              "</style>\n",
              "<table border=\"1\" class=\"dataframe\">\n",
              "  <thead>\n",
              "    <tr style=\"text-align: right;\">\n",
              "      <th></th>\n",
              "      <th>sepal_length</th>\n",
              "      <th>sepal_width</th>\n",
              "      <th>petal_length</th>\n",
              "      <th>petal_width</th>\n",
              "      <th>species</th>\n",
              "    </tr>\n",
              "  </thead>\n",
              "  <tbody>\n",
              "    <tr>\n",
              "      <th>0</th>\n",
              "      <td>5.1</td>\n",
              "      <td>3.5</td>\n",
              "      <td>1.4</td>\n",
              "      <td>0.2</td>\n",
              "      <td>Iris-setosa</td>\n",
              "    </tr>\n",
              "    <tr>\n",
              "      <th>1</th>\n",
              "      <td>4.9</td>\n",
              "      <td>3.0</td>\n",
              "      <td>1.4</td>\n",
              "      <td>0.2</td>\n",
              "      <td>Iris-setosa</td>\n",
              "    </tr>\n",
              "    <tr>\n",
              "      <th>2</th>\n",
              "      <td>4.7</td>\n",
              "      <td>3.2</td>\n",
              "      <td>1.3</td>\n",
              "      <td>0.2</td>\n",
              "      <td>Iris-setosa</td>\n",
              "    </tr>\n",
              "    <tr>\n",
              "      <th>3</th>\n",
              "      <td>4.6</td>\n",
              "      <td>3.1</td>\n",
              "      <td>1.5</td>\n",
              "      <td>0.2</td>\n",
              "      <td>Iris-setosa</td>\n",
              "    </tr>\n",
              "    <tr>\n",
              "      <th>4</th>\n",
              "      <td>5.0</td>\n",
              "      <td>3.6</td>\n",
              "      <td>1.4</td>\n",
              "      <td>0.2</td>\n",
              "      <td>Iris-setosa</td>\n",
              "    </tr>\n",
              "  </tbody>\n",
              "</table>\n",
              "</div>"
            ],
            "text/plain": [
              "   sepal_length  sepal_width  petal_length  petal_width      species\n",
              "0           5.1          3.5           1.4          0.2  Iris-setosa\n",
              "1           4.9          3.0           1.4          0.2  Iris-setosa\n",
              "2           4.7          3.2           1.3          0.2  Iris-setosa\n",
              "3           4.6          3.1           1.5          0.2  Iris-setosa\n",
              "4           5.0          3.6           1.4          0.2  Iris-setosa"
            ]
          },
          "metadata": {
            "tags": []
          },
          "execution_count": 4
        }
      ]
    },
    {
      "cell_type": "code",
      "metadata": {
        "id": "_aLoRriQ-vTD",
        "colab_type": "code",
        "colab": {}
      },
      "source": [
        "data[\"sepal_length\"]=data[\"sepal_length\"]-data[\"sepal_length\"].min()\n",
        "data[\"sepal_length\"]=data[\"sepal_length\"]/data[\"sepal_length\"].max()\n",
        "\n",
        "data[\"sepal_width\"]=data[\"sepal_width\"]-data[\"sepal_width\"].min()\n",
        "data[\"sepal_width\"]=data[\"sepal_width\"]/data[\"sepal_width\"].max()\n",
        "\n",
        "data[\"petal_length\"]=data[\"petal_length\"]-data[\"petal_length\"].min()\n",
        "data[\"petal_length\"]=data[\"petal_length\"]/data[\"petal_length\"].max()"
      ],
      "execution_count": 0,
      "outputs": []
    },
    {
      "cell_type": "code",
      "metadata": {
        "id": "PmTqfTB4ziyL",
        "colab_type": "code",
        "colab": {}
      },
      "source": [
        "y=data[\"species\"]\n",
        "x=data.drop(\"species\",axis=1)"
      ],
      "execution_count": 0,
      "outputs": []
    },
    {
      "cell_type": "code",
      "metadata": {
        "id": "yRzppOJz0Hks",
        "colab_type": "code",
        "outputId": "3aa0101c-835b-485d-8b85-6f2de1e8f386",
        "colab": {
          "base_uri": "https://localhost:8080/",
          "height": 119
        }
      },
      "source": [
        "y.head()"
      ],
      "execution_count": 7,
      "outputs": [
        {
          "output_type": "execute_result",
          "data": {
            "text/plain": [
              "0    Iris-setosa\n",
              "1    Iris-setosa\n",
              "2    Iris-setosa\n",
              "3    Iris-setosa\n",
              "4    Iris-setosa\n",
              "Name: species, dtype: object"
            ]
          },
          "metadata": {
            "tags": []
          },
          "execution_count": 7
        }
      ]
    },
    {
      "cell_type": "code",
      "metadata": {
        "id": "GJMsbR4s0Lcs",
        "colab_type": "code",
        "outputId": "a78d6891-15bf-4d53-a583-2a2098d10198",
        "colab": {
          "base_uri": "https://localhost:8080/",
          "height": 204
        }
      },
      "source": [
        "x.head()"
      ],
      "execution_count": 8,
      "outputs": [
        {
          "output_type": "execute_result",
          "data": {
            "text/html": [
              "<div>\n",
              "<style scoped>\n",
              "    .dataframe tbody tr th:only-of-type {\n",
              "        vertical-align: middle;\n",
              "    }\n",
              "\n",
              "    .dataframe tbody tr th {\n",
              "        vertical-align: top;\n",
              "    }\n",
              "\n",
              "    .dataframe thead th {\n",
              "        text-align: right;\n",
              "    }\n",
              "</style>\n",
              "<table border=\"1\" class=\"dataframe\">\n",
              "  <thead>\n",
              "    <tr style=\"text-align: right;\">\n",
              "      <th></th>\n",
              "      <th>sepal_length</th>\n",
              "      <th>sepal_width</th>\n",
              "      <th>petal_length</th>\n",
              "      <th>petal_width</th>\n",
              "    </tr>\n",
              "  </thead>\n",
              "  <tbody>\n",
              "    <tr>\n",
              "      <th>0</th>\n",
              "      <td>0.222222</td>\n",
              "      <td>0.625000</td>\n",
              "      <td>0.067797</td>\n",
              "      <td>0.2</td>\n",
              "    </tr>\n",
              "    <tr>\n",
              "      <th>1</th>\n",
              "      <td>0.166667</td>\n",
              "      <td>0.416667</td>\n",
              "      <td>0.067797</td>\n",
              "      <td>0.2</td>\n",
              "    </tr>\n",
              "    <tr>\n",
              "      <th>2</th>\n",
              "      <td>0.111111</td>\n",
              "      <td>0.500000</td>\n",
              "      <td>0.050847</td>\n",
              "      <td>0.2</td>\n",
              "    </tr>\n",
              "    <tr>\n",
              "      <th>3</th>\n",
              "      <td>0.083333</td>\n",
              "      <td>0.458333</td>\n",
              "      <td>0.084746</td>\n",
              "      <td>0.2</td>\n",
              "    </tr>\n",
              "    <tr>\n",
              "      <th>4</th>\n",
              "      <td>0.194444</td>\n",
              "      <td>0.666667</td>\n",
              "      <td>0.067797</td>\n",
              "      <td>0.2</td>\n",
              "    </tr>\n",
              "  </tbody>\n",
              "</table>\n",
              "</div>"
            ],
            "text/plain": [
              "   sepal_length  sepal_width  petal_length  petal_width\n",
              "0      0.222222     0.625000      0.067797          0.2\n",
              "1      0.166667     0.416667      0.067797          0.2\n",
              "2      0.111111     0.500000      0.050847          0.2\n",
              "3      0.083333     0.458333      0.084746          0.2\n",
              "4      0.194444     0.666667      0.067797          0.2"
            ]
          },
          "metadata": {
            "tags": []
          },
          "execution_count": 8
        }
      ]
    },
    {
      "cell_type": "code",
      "metadata": {
        "id": "xJ4wYgFA6boW",
        "colab_type": "code",
        "colab": {}
      },
      "source": [
        "l=le()\n",
        "y=l.fit_transform(y)"
      ],
      "execution_count": 0,
      "outputs": []
    },
    {
      "cell_type": "code",
      "metadata": {
        "id": "OTgU6nK50lLV",
        "colab_type": "code",
        "colab": {}
      },
      "source": [
        "x_train,x_test,y_train,y_test=train_test_split(x,y,test_size=0.2)"
      ],
      "execution_count": 0,
      "outputs": []
    },
    {
      "cell_type": "code",
      "metadata": {
        "id": "owhAJ1-c0NqN",
        "colab_type": "code",
        "outputId": "04de25d9-7c3a-49c1-ac4f-b31f34f5b860",
        "colab": {
          "base_uri": "https://localhost:8080/",
          "height": 34
        }
      },
      "source": [
        "print(x_train.shape)"
      ],
      "execution_count": 11,
      "outputs": [
        {
          "output_type": "stream",
          "text": [
            "(120, 4)\n"
          ],
          "name": "stdout"
        }
      ]
    },
    {
      "cell_type": "code",
      "metadata": {
        "id": "ZMQPklgc4hgx",
        "colab_type": "code",
        "colab": {}
      },
      "source": [
        "k=len(set(y_test))"
      ],
      "execution_count": 0,
      "outputs": []
    },
    {
      "cell_type": "code",
      "metadata": {
        "id": "YzWJ_y7C3kEJ",
        "colab_type": "code",
        "colab": {}
      },
      "source": [
        "i=Input(shape=(4,))\n",
        "x=Dense(512,activation=\"relu\")(i)\n",
        "x=Dense(1024,activation=\"relu\")(i)\n",
        "x=Dense(k,activation=\"softmax\")(x)\n",
        "\n",
        "model=Model(i,x)"
      ],
      "execution_count": 0,
      "outputs": []
    },
    {
      "cell_type": "code",
      "metadata": {
        "id": "iXbFW59a4MPC",
        "colab_type": "code",
        "colab": {}
      },
      "source": [
        "model.compile(optimizer=\"adam\",\n",
        "              loss=\"sparse_categorical_crossentropy\",\n",
        "              metrics=[\"accuracy\"])"
      ],
      "execution_count": 0,
      "outputs": []
    },
    {
      "cell_type": "code",
      "metadata": {
        "id": "WrqTayu67lLf",
        "colab_type": "code",
        "colab": {}
      },
      "source": [
        "y_train,y_test=y_train.flatten(),y_test.flatten()"
      ],
      "execution_count": 0,
      "outputs": []
    },
    {
      "cell_type": "code",
      "metadata": {
        "id": "GR2gMZWg7UD_",
        "colab_type": "code",
        "outputId": "3c419c6c-a6c3-4641-9dfd-9eb047dba36a",
        "colab": {
          "base_uri": "https://localhost:8080/",
          "height": 1000
        }
      },
      "source": [
        "r=model.fit(x_train,y_train,validation_data=(x_test,y_test),epochs=70)"
      ],
      "execution_count": 16,
      "outputs": [
        {
          "output_type": "stream",
          "text": [
            "Epoch 1/70\n",
            "4/4 [==============================] - 0s 43ms/step - loss: 1.0414 - accuracy: 0.3500 - val_loss: 0.9952 - val_accuracy: 0.4667\n",
            "Epoch 2/70\n",
            "4/4 [==============================] - 0s 11ms/step - loss: 0.9595 - accuracy: 0.6083 - val_loss: 0.9322 - val_accuracy: 0.5667\n",
            "Epoch 3/70\n",
            "4/4 [==============================] - 0s 11ms/step - loss: 0.8955 - accuracy: 0.6500 - val_loss: 0.8820 - val_accuracy: 0.5667\n",
            "Epoch 4/70\n",
            "4/4 [==============================] - 0s 10ms/step - loss: 0.8413 - accuracy: 0.6667 - val_loss: 0.8351 - val_accuracy: 0.5667\n",
            "Epoch 5/70\n",
            "4/4 [==============================] - 0s 12ms/step - loss: 0.7929 - accuracy: 0.6833 - val_loss: 0.7901 - val_accuracy: 0.5667\n",
            "Epoch 6/70\n",
            "4/4 [==============================] - 0s 11ms/step - loss: 0.7438 - accuracy: 0.6917 - val_loss: 0.7464 - val_accuracy: 0.5667\n",
            "Epoch 7/70\n",
            "4/4 [==============================] - 0s 11ms/step - loss: 0.6915 - accuracy: 0.6917 - val_loss: 0.7094 - val_accuracy: 0.5667\n",
            "Epoch 8/70\n",
            "4/4 [==============================] - 0s 15ms/step - loss: 0.6516 - accuracy: 0.6917 - val_loss: 0.6758 - val_accuracy: 0.5667\n",
            "Epoch 9/70\n",
            "4/4 [==============================] - 0s 11ms/step - loss: 0.6136 - accuracy: 0.6917 - val_loss: 0.6446 - val_accuracy: 0.5667\n",
            "Epoch 10/70\n",
            "4/4 [==============================] - 0s 12ms/step - loss: 0.5737 - accuracy: 0.6917 - val_loss: 0.6131 - val_accuracy: 0.5667\n",
            "Epoch 11/70\n",
            "4/4 [==============================] - 0s 12ms/step - loss: 0.5376 - accuracy: 0.6917 - val_loss: 0.5837 - val_accuracy: 0.5667\n",
            "Epoch 12/70\n",
            "4/4 [==============================] - 0s 11ms/step - loss: 0.5051 - accuracy: 0.7250 - val_loss: 0.5582 - val_accuracy: 0.6000\n",
            "Epoch 13/70\n",
            "4/4 [==============================] - 0s 11ms/step - loss: 0.4854 - accuracy: 0.7250 - val_loss: 0.5356 - val_accuracy: 0.6000\n",
            "Epoch 14/70\n",
            "4/4 [==============================] - 0s 11ms/step - loss: 0.4635 - accuracy: 0.7333 - val_loss: 0.5171 - val_accuracy: 0.6000\n",
            "Epoch 15/70\n",
            "4/4 [==============================] - 0s 14ms/step - loss: 0.4461 - accuracy: 0.7667 - val_loss: 0.4980 - val_accuracy: 0.7000\n",
            "Epoch 16/70\n",
            "4/4 [==============================] - 0s 11ms/step - loss: 0.4263 - accuracy: 0.8000 - val_loss: 0.4779 - val_accuracy: 0.8667\n",
            "Epoch 17/70\n",
            "4/4 [==============================] - 0s 10ms/step - loss: 0.4111 - accuracy: 0.8250 - val_loss: 0.4633 - val_accuracy: 0.8667\n",
            "Epoch 18/70\n",
            "4/4 [==============================] - 0s 11ms/step - loss: 0.3960 - accuracy: 0.8417 - val_loss: 0.4488 - val_accuracy: 0.8667\n",
            "Epoch 19/70\n",
            "4/4 [==============================] - 0s 12ms/step - loss: 0.3844 - accuracy: 0.8500 - val_loss: 0.4306 - val_accuracy: 0.9667\n",
            "Epoch 20/70\n",
            "4/4 [==============================] - 0s 11ms/step - loss: 0.3745 - accuracy: 0.8500 - val_loss: 0.4190 - val_accuracy: 0.9667\n",
            "Epoch 21/70\n",
            "4/4 [==============================] - 0s 11ms/step - loss: 0.3613 - accuracy: 0.8917 - val_loss: 0.3990 - val_accuracy: 1.0000\n",
            "Epoch 22/70\n",
            "4/4 [==============================] - 0s 11ms/step - loss: 0.3525 - accuracy: 0.9500 - val_loss: 0.3842 - val_accuracy: 1.0000\n",
            "Epoch 23/70\n",
            "4/4 [==============================] - 0s 11ms/step - loss: 0.3455 - accuracy: 0.9500 - val_loss: 0.3705 - val_accuracy: 1.0000\n",
            "Epoch 24/70\n",
            "4/4 [==============================] - 0s 11ms/step - loss: 0.3325 - accuracy: 0.9583 - val_loss: 0.3561 - val_accuracy: 1.0000\n",
            "Epoch 25/70\n",
            "4/4 [==============================] - 0s 15ms/step - loss: 0.3230 - accuracy: 0.9583 - val_loss: 0.3434 - val_accuracy: 1.0000\n",
            "Epoch 26/70\n",
            "4/4 [==============================] - 0s 11ms/step - loss: 0.3097 - accuracy: 0.9583 - val_loss: 0.3311 - val_accuracy: 1.0000\n",
            "Epoch 27/70\n",
            "4/4 [==============================] - 0s 11ms/step - loss: 0.3047 - accuracy: 0.9500 - val_loss: 0.3207 - val_accuracy: 1.0000\n",
            "Epoch 28/70\n",
            "4/4 [==============================] - 0s 11ms/step - loss: 0.2912 - accuracy: 0.9500 - val_loss: 0.3037 - val_accuracy: 1.0000\n",
            "Epoch 29/70\n",
            "4/4 [==============================] - 0s 12ms/step - loss: 0.2834 - accuracy: 0.9417 - val_loss: 0.2883 - val_accuracy: 1.0000\n",
            "Epoch 30/70\n",
            "4/4 [==============================] - 0s 11ms/step - loss: 0.2776 - accuracy: 0.9417 - val_loss: 0.2781 - val_accuracy: 1.0000\n",
            "Epoch 31/70\n",
            "4/4 [==============================] - 0s 11ms/step - loss: 0.2766 - accuracy: 0.9500 - val_loss: 0.2723 - val_accuracy: 1.0000\n",
            "Epoch 32/70\n",
            "4/4 [==============================] - 0s 10ms/step - loss: 0.2605 - accuracy: 0.9417 - val_loss: 0.2548 - val_accuracy: 1.0000\n",
            "Epoch 33/70\n",
            "4/4 [==============================] - 0s 11ms/step - loss: 0.2536 - accuracy: 0.9417 - val_loss: 0.2426 - val_accuracy: 1.0000\n",
            "Epoch 34/70\n",
            "4/4 [==============================] - 0s 11ms/step - loss: 0.2401 - accuracy: 0.9417 - val_loss: 0.2354 - val_accuracy: 1.0000\n",
            "Epoch 35/70\n",
            "4/4 [==============================] - 0s 11ms/step - loss: 0.2440 - accuracy: 0.9417 - val_loss: 0.2295 - val_accuracy: 1.0000\n",
            "Epoch 36/70\n",
            "4/4 [==============================] - 0s 11ms/step - loss: 0.2313 - accuracy: 0.9417 - val_loss: 0.2142 - val_accuracy: 1.0000\n",
            "Epoch 37/70\n",
            "4/4 [==============================] - 0s 11ms/step - loss: 0.2227 - accuracy: 0.9417 - val_loss: 0.2054 - val_accuracy: 1.0000\n",
            "Epoch 38/70\n",
            "4/4 [==============================] - 0s 13ms/step - loss: 0.2207 - accuracy: 0.9333 - val_loss: 0.1990 - val_accuracy: 1.0000\n",
            "Epoch 39/70\n",
            "4/4 [==============================] - 0s 11ms/step - loss: 0.2111 - accuracy: 0.9417 - val_loss: 0.1917 - val_accuracy: 1.0000\n",
            "Epoch 40/70\n",
            "4/4 [==============================] - 0s 11ms/step - loss: 0.2060 - accuracy: 0.9417 - val_loss: 0.1871 - val_accuracy: 1.0000\n",
            "Epoch 41/70\n",
            "4/4 [==============================] - 0s 11ms/step - loss: 0.2045 - accuracy: 0.9417 - val_loss: 0.1753 - val_accuracy: 1.0000\n",
            "Epoch 42/70\n",
            "4/4 [==============================] - 0s 11ms/step - loss: 0.1945 - accuracy: 0.9417 - val_loss: 0.1685 - val_accuracy: 1.0000\n",
            "Epoch 43/70\n",
            "4/4 [==============================] - 0s 11ms/step - loss: 0.1887 - accuracy: 0.9333 - val_loss: 0.1628 - val_accuracy: 1.0000\n",
            "Epoch 44/70\n",
            "4/4 [==============================] - 0s 10ms/step - loss: 0.1868 - accuracy: 0.9417 - val_loss: 0.1571 - val_accuracy: 1.0000\n",
            "Epoch 45/70\n",
            "4/4 [==============================] - 0s 12ms/step - loss: 0.1832 - accuracy: 0.9500 - val_loss: 0.1508 - val_accuracy: 1.0000\n",
            "Epoch 46/70\n",
            "4/4 [==============================] - 0s 11ms/step - loss: 0.1763 - accuracy: 0.9417 - val_loss: 0.1457 - val_accuracy: 1.0000\n",
            "Epoch 47/70\n",
            "4/4 [==============================] - 0s 12ms/step - loss: 0.1738 - accuracy: 0.9417 - val_loss: 0.1410 - val_accuracy: 1.0000\n",
            "Epoch 48/70\n",
            "4/4 [==============================] - 0s 11ms/step - loss: 0.1708 - accuracy: 0.9417 - val_loss: 0.1362 - val_accuracy: 1.0000\n",
            "Epoch 49/70\n",
            "4/4 [==============================] - 0s 11ms/step - loss: 0.1633 - accuracy: 0.9417 - val_loss: 0.1314 - val_accuracy: 1.0000\n",
            "Epoch 50/70\n",
            "4/4 [==============================] - 0s 11ms/step - loss: 0.1672 - accuracy: 0.9667 - val_loss: 0.1292 - val_accuracy: 1.0000\n",
            "Epoch 51/70\n",
            "4/4 [==============================] - 0s 11ms/step - loss: 0.1609 - accuracy: 0.9500 - val_loss: 0.1232 - val_accuracy: 1.0000\n",
            "Epoch 52/70\n",
            "4/4 [==============================] - 0s 12ms/step - loss: 0.1597 - accuracy: 0.9417 - val_loss: 0.1206 - val_accuracy: 1.0000\n",
            "Epoch 53/70\n",
            "4/4 [==============================] - 0s 11ms/step - loss: 0.1581 - accuracy: 0.9417 - val_loss: 0.1156 - val_accuracy: 1.0000\n",
            "Epoch 54/70\n",
            "4/4 [==============================] - 0s 11ms/step - loss: 0.1526 - accuracy: 0.9500 - val_loss: 0.1120 - val_accuracy: 1.0000\n",
            "Epoch 55/70\n",
            "4/4 [==============================] - 0s 11ms/step - loss: 0.1487 - accuracy: 0.9417 - val_loss: 0.1089 - val_accuracy: 1.0000\n",
            "Epoch 56/70\n",
            "4/4 [==============================] - 0s 11ms/step - loss: 0.1442 - accuracy: 0.9417 - val_loss: 0.1057 - val_accuracy: 1.0000\n",
            "Epoch 57/70\n",
            "4/4 [==============================] - 0s 12ms/step - loss: 0.1444 - accuracy: 0.9417 - val_loss: 0.1028 - val_accuracy: 1.0000\n",
            "Epoch 58/70\n",
            "4/4 [==============================] - 0s 11ms/step - loss: 0.1416 - accuracy: 0.9500 - val_loss: 0.1014 - val_accuracy: 1.0000\n",
            "Epoch 59/70\n",
            "4/4 [==============================] - 0s 12ms/step - loss: 0.1448 - accuracy: 0.9417 - val_loss: 0.0973 - val_accuracy: 1.0000\n",
            "Epoch 60/70\n",
            "4/4 [==============================] - 0s 11ms/step - loss: 0.1408 - accuracy: 0.9500 - val_loss: 0.0950 - val_accuracy: 1.0000\n",
            "Epoch 61/70\n",
            "4/4 [==============================] - 0s 11ms/step - loss: 0.1346 - accuracy: 0.9500 - val_loss: 0.0934 - val_accuracy: 1.0000\n",
            "Epoch 62/70\n",
            "4/4 [==============================] - 0s 11ms/step - loss: 0.1313 - accuracy: 0.9417 - val_loss: 0.0914 - val_accuracy: 1.0000\n",
            "Epoch 63/70\n",
            "4/4 [==============================] - 0s 11ms/step - loss: 0.1332 - accuracy: 0.9500 - val_loss: 0.0877 - val_accuracy: 1.0000\n",
            "Epoch 64/70\n",
            "4/4 [==============================] - 0s 11ms/step - loss: 0.1312 - accuracy: 0.9417 - val_loss: 0.0869 - val_accuracy: 1.0000\n",
            "Epoch 65/70\n",
            "4/4 [==============================] - 0s 12ms/step - loss: 0.1291 - accuracy: 0.9417 - val_loss: 0.0851 - val_accuracy: 1.0000\n",
            "Epoch 66/70\n",
            "4/4 [==============================] - 0s 14ms/step - loss: 0.1302 - accuracy: 0.9500 - val_loss: 0.0816 - val_accuracy: 1.0000\n",
            "Epoch 67/70\n",
            "4/4 [==============================] - 0s 11ms/step - loss: 0.1280 - accuracy: 0.9417 - val_loss: 0.0801 - val_accuracy: 1.0000\n",
            "Epoch 68/70\n",
            "4/4 [==============================] - 0s 11ms/step - loss: 0.1254 - accuracy: 0.9500 - val_loss: 0.0810 - val_accuracy: 1.0000\n",
            "Epoch 69/70\n",
            "4/4 [==============================] - 0s 11ms/step - loss: 0.1199 - accuracy: 0.9417 - val_loss: 0.0781 - val_accuracy: 1.0000\n",
            "Epoch 70/70\n",
            "4/4 [==============================] - 0s 11ms/step - loss: 0.1213 - accuracy: 0.9500 - val_loss: 0.0750 - val_accuracy: 1.0000\n"
          ],
          "name": "stdout"
        }
      ]
    },
    {
      "cell_type": "code",
      "metadata": {
        "id": "iwmx3QNm7tp6",
        "colab_type": "code",
        "outputId": "e2122870-3228-439c-9920-41f0b0d5a882",
        "colab": {
          "base_uri": "https://localhost:8080/",
          "height": 282
        }
      },
      "source": [
        "import matplotlib.pyplot as plt\n",
        "plt.plot(r.history[\"loss\"],label=\"loss\")\n",
        "plt.plot(r.history[\"val_loss\"],label=\"val_loss\")\n",
        "plt.legend()"
      ],
      "execution_count": 17,
      "outputs": [
        {
          "output_type": "execute_result",
          "data": {
            "text/plain": [
              "<matplotlib.legend.Legend at 0x7f803627a6d8>"
            ]
          },
          "metadata": {
            "tags": []
          },
          "execution_count": 17
        },
        {
          "output_type": "display_data",
          "data": {
            "image/png": "[encoded data removed]",
            "text/plain": [
              "<Figure size 432x288 with 1 Axes>"
            ]
          },
          "metadata": {
            "tags": [],
            "needs_background": "light"
          }
        }
      ]
    },
    {
      "cell_type": "code",
      "metadata": {
        "id": "sK4WHt298GPn",
        "colab_type": "code",
        "outputId": "c4ab617e-9ae2-46e9-9479-3a45d6fd87be",
        "colab": {
          "base_uri": "https://localhost:8080/",
          "height": 282
        }
      },
      "source": [
        "plt.plot(r.history[\"accuracy\"],label=\"acc\")\n",
        "plt.plot(r.history[\"val_accuracy\"],label=\"val_acc\")\n",
        "plt.legend()"
      ],
      "execution_count": 18,
      "outputs": [
        {
          "output_type": "execute_result",
          "data": {
            "text/plain": [
              "<matplotlib.legend.Legend at 0x7f80363ff518>"
            ]
          },
          "metadata": {
            "tags": []
          },
          "execution_count": 18
        },
        {
          "output_type": "display_data",
          "data": {
            "image/png": "[encoded data removed]",
            "text/plain": [
              "<Figure size 432x288 with 1 Axes>"
            ]
          },
          "metadata": {
            "tags": [],
            "needs_background": "light"
          }
        }
      ]
    }
  ]
}