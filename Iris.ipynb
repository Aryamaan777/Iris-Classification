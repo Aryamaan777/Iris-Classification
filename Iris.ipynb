{
  "nbformat": 4,
  "nbformat_minor": 0,
  "metadata": {
    "colab": {
      "name": "Iris.ipynb",
      "provenance": [],
      "authorship_tag": "ABX9TyOhxaycaZZ3NqkLRCKXV6Cr",
      "include_colab_link": true
    },
    "kernelspec": {
      "name": "python3",
      "display_name": "Python 3"
    }
  },
  "cells": [
    {
      "cell_type": "markdown",
      "metadata": {
        "id": "view-in-github",
        "colab_type": "text"
      },
      "source": [
        "<a href=\"https://colab.research.google.com/github/Aryamaan777/Iris-Classification/blob/master/Iris.ipynb\" target=\"_parent\"><img src=\"https://colab.research.google.com/assets/colab-badge.svg\" alt=\"Open In Colab\"/></a>"
      ]
    },
    {
      "cell_type": "code",
      "metadata": {
        "id": "_r6KacJuy4T0",
        "colab_type": "code",
        "outputId": "9153bd69-a41b-4584-b9bb-d4a07c7555fb",
        "colab": {
          "base_uri": "https://localhost:8080/",
          "height": 34
        }
      },
      "source": [
        "import tensorflow as tf\n",
        "print(tf.__version__)"
      ],
      "execution_count": 0,
      "outputs": [
        {
          "output_type": "stream",
          "text": [
            "2.2.0-rc3\n"
          ],
          "name": "stdout"
        }
      ]
    },
    {
      "cell_type": "code",
      "metadata": {
        "id": "0oVidSuny_-5",
        "colab_type": "code",
        "colab": {}
      },
      "source": [
        "import pandas as pd\n",
        "from tensorflow.keras.layers import Input,Dense\n",
        "from sklearn.model_selection import train_test_split\n",
        "from tensorflow.keras.models import Model\n",
        "from sklearn.preprocessing import LabelEncoder as le"
      ],
      "execution_count": 0,
      "outputs": []
    },
    {
      "cell_type": "code",
      "metadata": {
        "id": "VsX5-jz4zDv8",
        "colab_type": "code",
        "colab": {}
      },
      "source": [
        "data=pd.read_csv(\"/content/IRIS.csv\")"
      ],
      "execution_count": 0,
      "outputs": []
    },
    {
      "cell_type": "code",
      "metadata": {
        "id": "AbwKjjTKzPU2",
        "colab_type": "code",
        "outputId": "a7b85b26-e813-4ac0-e8b3-74ad78fe0087",
        "colab": {
          "base_uri": "https://localhost:8080/",
          "height": 204
        }
      },
      "source": [
        "data.head()"
      ],
      "execution_count": 0,
      "outputs": [
        {
          "output_type": "execute_result",
          "data": {
            "text/html": [
              "<div>\n",
              "<style scoped>\n",
              "    .dataframe tbody tr th:only-of-type {\n",
              "        vertical-align: middle;\n",
              "    }\n",
              "\n",
              "    .dataframe tbody tr th {\n",
              "        vertical-align: top;\n",
              "    }\n",
              "\n",
              "    .dataframe thead th {\n",
              "        text-align: right;\n",
              "    }\n",
              "</style>\n",
              "<table border=\"1\" class=\"dataframe\">\n",
              "  <thead>\n",
              "    <tr style=\"text-align: right;\">\n",
              "      <th></th>\n",
              "      <th>sepal_length</th>\n",
              "      <th>sepal_width</th>\n",
              "      <th>petal_length</th>\n",
              "      <th>petal_width</th>\n",
              "      <th>species</th>\n",
              "    </tr>\n",
              "  </thead>\n",
              "  <tbody>\n",
              "    <tr>\n",
              "      <th>0</th>\n",
              "      <td>5.1</td>\n",
              "      <td>3.5</td>\n",
              "      <td>1.4</td>\n",
              "      <td>0.2</td>\n",
              "      <td>Iris-setosa</td>\n",
              "    </tr>\n",
              "    <tr>\n",
              "      <th>1</th>\n",
              "      <td>4.9</td>\n",
              "      <td>3.0</td>\n",
              "      <td>1.4</td>\n",
              "      <td>0.2</td>\n",
              "      <td>Iris-setosa</td>\n",
              "    </tr>\n",
              "    <tr>\n",
              "      <th>2</th>\n",
              "      <td>4.7</td>\n",
              "      <td>3.2</td>\n",
              "      <td>1.3</td>\n",
              "      <td>0.2</td>\n",
              "      <td>Iris-setosa</td>\n",
              "    </tr>\n",
              "    <tr>\n",
              "      <th>3</th>\n",
              "      <td>4.6</td>\n",
              "      <td>3.1</td>\n",
              "      <td>1.5</td>\n",
              "      <td>0.2</td>\n",
              "      <td>Iris-setosa</td>\n",
              "    </tr>\n",
              "    <tr>\n",
              "      <th>4</th>\n",
              "      <td>5.0</td>\n",
              "      <td>3.6</td>\n",
              "      <td>1.4</td>\n",
              "      <td>0.2</td>\n",
              "      <td>Iris-setosa</td>\n",
              "    </tr>\n",
              "  </tbody>\n",
              "</table>\n",
              "</div>"
            ],
            "text/plain": [
              "   sepal_length  sepal_width  petal_length  petal_width      species\n",
              "0           5.1          3.5           1.4          0.2  Iris-setosa\n",
              "1           4.9          3.0           1.4          0.2  Iris-setosa\n",
              "2           4.7          3.2           1.3          0.2  Iris-setosa\n",
              "3           4.6          3.1           1.5          0.2  Iris-setosa\n",
              "4           5.0          3.6           1.4          0.2  Iris-setosa"
            ]
          },
          "metadata": {
            "tags": []
          },
          "execution_count": 4
        }
      ]
    },
    {
      "cell_type": "code",
      "metadata": {
        "id": "_aLoRriQ-vTD",
        "colab_type": "code",
        "colab": {}
      },
      "source": [
        "data[\"sepal_length\"]=data[\"sepal_length\"]-data[\"sepal_length\"].min()\n",
        "data[\"sepal_length\"]=data[\"sepal_length\"]/data[\"sepal_length\"].max()\n",
        "\n",
        "data[\"sepal_width\"]=data[\"sepal_width\"]-data[\"sepal_width\"].min()\n",
        "data[\"sepal_width\"]=data[\"sepal_width\"]/data[\"sepal_width\"].max()\n",
        "\n",
        "data[\"petal_length\"]=data[\"petal_length\"]-data[\"petal_length\"].min()\n",
        "data[\"petal_length\"]=data[\"petal_length\"]/data[\"petal_length\"].max()"
      ],
      "execution_count": 0,
      "outputs": []
    },
    {
      "cell_type": "code",
      "metadata": {
        "id": "PmTqfTB4ziyL",
        "colab_type": "code",
        "colab": {}
      },
      "source": [
        "y=data[\"species\"]\n",
        "x=data.drop(\"species\",axis=1)"
      ],
      "execution_count": 0,
      "outputs": []
    },
    {
      "cell_type": "code",
      "metadata": {
        "id": "yRzppOJz0Hks",
        "colab_type": "code",
        "outputId": "d7d1e4ed-883b-429a-b0bf-4c0a2d94c9d5",
        "colab": {
          "base_uri": "https://localhost:8080/",
          "height": 119
        }
      },
      "source": [
        "y.head()"
      ],
      "execution_count": 0,
      "outputs": [
        {
          "output_type": "execute_result",
          "data": {
            "text/plain": [
              "0    Iris-setosa\n",
              "1    Iris-setosa\n",
              "2    Iris-setosa\n",
              "3    Iris-setosa\n",
              "4    Iris-setosa\n",
              "Name: species, dtype: object"
            ]
          },
          "metadata": {
            "tags": []
          },
          "execution_count": 8
        }
      ]
    },
    {
      "cell_type": "code",
      "metadata": {
        "id": "GJMsbR4s0Lcs",
        "colab_type": "code",
        "outputId": "4c75313e-e000-4333-d793-3c003bcbba02",
        "colab": {
          "base_uri": "https://localhost:8080/",
          "height": 204
        }
      },
      "source": [
        "x.head()"
      ],
      "execution_count": 0,
      "outputs": [
        {
          "output_type": "execute_result",
          "data": {
            "text/html": [
              "<div>\n",
              "<style scoped>\n",
              "    .dataframe tbody tr th:only-of-type {\n",
              "        vertical-align: middle;\n",
              "    }\n",
              "\n",
              "    .dataframe tbody tr th {\n",
              "        vertical-align: top;\n",
              "    }\n",
              "\n",
              "    .dataframe thead th {\n",
              "        text-align: right;\n",
              "    }\n",
              "</style>\n",
              "<table border=\"1\" class=\"dataframe\">\n",
              "  <thead>\n",
              "    <tr style=\"text-align: right;\">\n",
              "      <th></th>\n",
              "      <th>sepal_length</th>\n",
              "      <th>sepal_width</th>\n",
              "      <th>petal_length</th>\n",
              "      <th>petal_width</th>\n",
              "    </tr>\n",
              "  </thead>\n",
              "  <tbody>\n",
              "    <tr>\n",
              "      <th>0</th>\n",
              "      <td>0.222222</td>\n",
              "      <td>0.625000</td>\n",
              "      <td>0.067797</td>\n",
              "      <td>0.2</td>\n",
              "    </tr>\n",
              "    <tr>\n",
              "      <th>1</th>\n",
              "      <td>0.166667</td>\n",
              "      <td>0.416667</td>\n",
              "      <td>0.067797</td>\n",
              "      <td>0.2</td>\n",
              "    </tr>\n",
              "    <tr>\n",
              "      <th>2</th>\n",
              "      <td>0.111111</td>\n",
              "      <td>0.500000</td>\n",
              "      <td>0.050847</td>\n",
              "      <td>0.2</td>\n",
              "    </tr>\n",
              "    <tr>\n",
              "      <th>3</th>\n",
              "      <td>0.083333</td>\n",
              "      <td>0.458333</td>\n",
              "      <td>0.084746</td>\n",
              "      <td>0.2</td>\n",
              "    </tr>\n",
              "    <tr>\n",
              "      <th>4</th>\n",
              "      <td>0.194444</td>\n",
              "      <td>0.666667</td>\n",
              "      <td>0.067797</td>\n",
              "      <td>0.2</td>\n",
              "    </tr>\n",
              "  </tbody>\n",
              "</table>\n",
              "</div>"
            ],
            "text/plain": [
              "   sepal_length  sepal_width  petal_length  petal_width\n",
              "0      0.222222     0.625000      0.067797          0.2\n",
              "1      0.166667     0.416667      0.067797          0.2\n",
              "2      0.111111     0.500000      0.050847          0.2\n",
              "3      0.083333     0.458333      0.084746          0.2\n",
              "4      0.194444     0.666667      0.067797          0.2"
            ]
          },
          "metadata": {
            "tags": []
          },
          "execution_count": 10
        }
      ]
    },
    {
      "cell_type": "code",
      "metadata": {
        "id": "xJ4wYgFA6boW",
        "colab_type": "code",
        "colab": {}
      },
      "source": [
        "l=le()\n",
        "y=l.fit_transform(y)"
      ],
      "execution_count": 0,
      "outputs": []
    },
    {
      "cell_type": "code",
      "metadata": {
        "id": "OTgU6nK50lLV",
        "colab_type": "code",
        "colab": {}
      },
      "source": [
        "x_train,x_test,y_train,y_test=train_test_split(x,y,test_size=0.2)"
      ],
      "execution_count": 0,
      "outputs": []
    },
    {
      "cell_type": "code",
      "metadata": {
        "id": "owhAJ1-c0NqN",
        "colab_type": "code",
        "outputId": "210f679f-d824-4858-97d5-2399a0b9085f",
        "colab": {
          "base_uri": "https://localhost:8080/",
          "height": 34
        }
      },
      "source": [
        "print(x_train.shape)"
      ],
      "execution_count": 0,
      "outputs": [
        {
          "output_type": "stream",
          "text": [
            "(120, 4)\n"
          ],
          "name": "stdout"
        }
      ]
    },
    {
      "cell_type": "code",
      "metadata": {
        "id": "ZMQPklgc4hgx",
        "colab_type": "code",
        "colab": {}
      },
      "source": [
        "k=len(set(y_test))"
      ],
      "execution_count": 0,
      "outputs": []
    },
    {
      "cell_type": "code",
      "metadata": {
        "id": "YzWJ_y7C3kEJ",
        "colab_type": "code",
        "colab": {}
      },
      "source": [
        "i=Input(shape=(4,))\n",
        "x=Dense(512,activation=\"relu\")(i)\n",
        "x=Dense(1024,activation=\"relu\")(i)\n",
        "x=Dense(k,activation=\"softmax\")(x)\n",
        "\n",
        "model=Model(i,x)"
      ],
      "execution_count": 0,
      "outputs": []
    },
    {
      "cell_type": "code",
      "metadata": {
        "id": "iXbFW59a4MPC",
        "colab_type": "code",
        "colab": {}
      },
      "source": [
        "model.compile(optimizer=\"adam\",\n",
        "              loss=\"sparse_categorical_crossentropy\",\n",
        "              metrics=[\"accuracy\"])"
      ],
      "execution_count": 0,
      "outputs": []
    },
    {
      "cell_type": "code",
      "metadata": {
        "id": "WrqTayu67lLf",
        "colab_type": "code",
        "colab": {}
      },
      "source": [
        "y_train,y_test=y_train.flatten(),y_test.flatten()"
      ],
      "execution_count": 0,
      "outputs": []
    },
    {
      "cell_type": "code",
      "metadata": {
        "id": "GR2gMZWg7UD_",
        "colab_type": "code",
        "outputId": "56fa2493-6efa-41ee-956a-5256eb006230",
        "colab": {
          "base_uri": "https://localhost:8080/",
          "height": 1000
        }
      },
      "source": [
        "r=model.fit(x_train,y_train,validation_data=(x_test,y_test),epochs=50)"
      ],
      "execution_count": 0,
      "outputs": [
        {
          "output_type": "stream",
          "text": [
            "Epoch 1/50\n",
            "4/4 [==============================] - 0s 46ms/step - loss: 1.0553 - accuracy: 0.3833 - val_loss: 0.9739 - val_accuracy: 0.7333\n",
            "Epoch 2/50\n",
            "4/4 [==============================] - 0s 12ms/step - loss: 0.9577 - accuracy: 0.7250 - val_loss: 0.8818 - val_accuracy: 0.6667\n",
            "Epoch 3/50\n",
            "4/4 [==============================] - 0s 12ms/step - loss: 0.8952 - accuracy: 0.6417 - val_loss: 0.8114 - val_accuracy: 0.6667\n",
            "Epoch 4/50\n",
            "4/4 [==============================] - 0s 12ms/step - loss: 0.8318 - accuracy: 0.6500 - val_loss: 0.7687 - val_accuracy: 0.7000\n",
            "Epoch 5/50\n",
            "4/4 [==============================] - 0s 12ms/step - loss: 0.7803 - accuracy: 0.6583 - val_loss: 0.7307 - val_accuracy: 0.7000\n",
            "Epoch 6/50\n",
            "4/4 [==============================] - 0s 12ms/step - loss: 0.7315 - accuracy: 0.6583 - val_loss: 0.6957 - val_accuracy: 0.7000\n",
            "Epoch 7/50\n",
            "4/4 [==============================] - 0s 12ms/step - loss: 0.6832 - accuracy: 0.6750 - val_loss: 0.6647 - val_accuracy: 0.7333\n",
            "Epoch 8/50\n",
            "4/4 [==============================] - 0s 12ms/step - loss: 0.6346 - accuracy: 0.7167 - val_loss: 0.6323 - val_accuracy: 0.7667\n",
            "Epoch 9/50\n",
            "4/4 [==============================] - 0s 13ms/step - loss: 0.6012 - accuracy: 0.7917 - val_loss: 0.6043 - val_accuracy: 0.8333\n",
            "Epoch 10/50\n",
            "4/4 [==============================] - 0s 13ms/step - loss: 0.5551 - accuracy: 0.7917 - val_loss: 0.5713 - val_accuracy: 0.7667\n",
            "Epoch 11/50\n",
            "4/4 [==============================] - 0s 14ms/step - loss: 0.5263 - accuracy: 0.7500 - val_loss: 0.5400 - val_accuracy: 0.7333\n",
            "Epoch 12/50\n",
            "4/4 [==============================] - 0s 12ms/step - loss: 0.5034 - accuracy: 0.7500 - val_loss: 0.5191 - val_accuracy: 0.7667\n",
            "Epoch 13/50\n",
            "4/4 [==============================] - 0s 12ms/step - loss: 0.4772 - accuracy: 0.7750 - val_loss: 0.5008 - val_accuracy: 0.8333\n",
            "Epoch 14/50\n",
            "4/4 [==============================] - 0s 13ms/step - loss: 0.4540 - accuracy: 0.8750 - val_loss: 0.4874 - val_accuracy: 0.8667\n",
            "Epoch 15/50\n",
            "4/4 [==============================] - 0s 12ms/step - loss: 0.4374 - accuracy: 0.9417 - val_loss: 0.4788 - val_accuracy: 0.9667\n",
            "Epoch 16/50\n",
            "4/4 [==============================] - 0s 12ms/step - loss: 0.4127 - accuracy: 0.9500 - val_loss: 0.4562 - val_accuracy: 0.9667\n",
            "Epoch 17/50\n",
            "4/4 [==============================] - 0s 12ms/step - loss: 0.4048 - accuracy: 0.9417 - val_loss: 0.4356 - val_accuracy: 0.8667\n",
            "Epoch 18/50\n",
            "4/4 [==============================] - 0s 13ms/step - loss: 0.3926 - accuracy: 0.9000 - val_loss: 0.4185 - val_accuracy: 0.8333\n",
            "Epoch 19/50\n",
            "4/4 [==============================] - 0s 12ms/step - loss: 0.3733 - accuracy: 0.9083 - val_loss: 0.4126 - val_accuracy: 0.9667\n",
            "Epoch 20/50\n",
            "4/4 [==============================] - 0s 13ms/step - loss: 0.3681 - accuracy: 0.9500 - val_loss: 0.4031 - val_accuracy: 0.9667\n",
            "Epoch 21/50\n",
            "4/4 [==============================] - 0s 11ms/step - loss: 0.3497 - accuracy: 0.9500 - val_loss: 0.3899 - val_accuracy: 0.9667\n",
            "Epoch 22/50\n",
            "4/4 [==============================] - 0s 16ms/step - loss: 0.3400 - accuracy: 0.9500 - val_loss: 0.3787 - val_accuracy: 0.9667\n",
            "Epoch 23/50\n",
            "4/4 [==============================] - 0s 12ms/step - loss: 0.3269 - accuracy: 0.9500 - val_loss: 0.3644 - val_accuracy: 0.9667\n",
            "Epoch 24/50\n",
            "4/4 [==============================] - 0s 12ms/step - loss: 0.3147 - accuracy: 0.9500 - val_loss: 0.3506 - val_accuracy: 0.9667\n",
            "Epoch 25/50\n",
            "4/4 [==============================] - 0s 12ms/step - loss: 0.3049 - accuracy: 0.9500 - val_loss: 0.3384 - val_accuracy: 0.9667\n",
            "Epoch 26/50\n",
            "4/4 [==============================] - 0s 12ms/step - loss: 0.2931 - accuracy: 0.9500 - val_loss: 0.3248 - val_accuracy: 0.9667\n",
            "Epoch 27/50\n",
            "4/4 [==============================] - 0s 12ms/step - loss: 0.2788 - accuracy: 0.9500 - val_loss: 0.3157 - val_accuracy: 0.9667\n",
            "Epoch 28/50\n",
            "4/4 [==============================] - 0s 12ms/step - loss: 0.2777 - accuracy: 0.9417 - val_loss: 0.3091 - val_accuracy: 0.9667\n",
            "Epoch 29/50\n",
            "4/4 [==============================] - 0s 14ms/step - loss: 0.2652 - accuracy: 0.9500 - val_loss: 0.3004 - val_accuracy: 0.9667\n",
            "Epoch 30/50\n",
            "4/4 [==============================] - 0s 12ms/step - loss: 0.2521 - accuracy: 0.9583 - val_loss: 0.2844 - val_accuracy: 0.9667\n",
            "Epoch 31/50\n",
            "4/4 [==============================] - 0s 12ms/step - loss: 0.2443 - accuracy: 0.9500 - val_loss: 0.2758 - val_accuracy: 0.9667\n",
            "Epoch 32/50\n",
            "4/4 [==============================] - 0s 14ms/step - loss: 0.2360 - accuracy: 0.9500 - val_loss: 0.2690 - val_accuracy: 0.9667\n",
            "Epoch 33/50\n",
            "4/4 [==============================] - 0s 12ms/step - loss: 0.2353 - accuracy: 0.9500 - val_loss: 0.2593 - val_accuracy: 0.9667\n",
            "Epoch 34/50\n",
            "4/4 [==============================] - 0s 12ms/step - loss: 0.2248 - accuracy: 0.9667 - val_loss: 0.2621 - val_accuracy: 0.9667\n",
            "Epoch 35/50\n",
            "4/4 [==============================] - 0s 12ms/step - loss: 0.2161 - accuracy: 0.9500 - val_loss: 0.2458 - val_accuracy: 0.9667\n",
            "Epoch 36/50\n",
            "4/4 [==============================] - 0s 12ms/step - loss: 0.2100 - accuracy: 0.9583 - val_loss: 0.2353 - val_accuracy: 0.9667\n",
            "Epoch 37/50\n",
            "4/4 [==============================] - 0s 12ms/step - loss: 0.2012 - accuracy: 0.9500 - val_loss: 0.2296 - val_accuracy: 0.9667\n",
            "Epoch 38/50\n",
            "4/4 [==============================] - 0s 12ms/step - loss: 0.1969 - accuracy: 0.9500 - val_loss: 0.2268 - val_accuracy: 0.9667\n",
            "Epoch 39/50\n",
            "4/4 [==============================] - 0s 13ms/step - loss: 0.1990 - accuracy: 0.9583 - val_loss: 0.2218 - val_accuracy: 0.9667\n",
            "Epoch 40/50\n",
            "4/4 [==============================] - 0s 13ms/step - loss: 0.1854 - accuracy: 0.9583 - val_loss: 0.2122 - val_accuracy: 0.9667\n",
            "Epoch 41/50\n",
            "4/4 [==============================] - 0s 12ms/step - loss: 0.1851 - accuracy: 0.9583 - val_loss: 0.2087 - val_accuracy: 0.9667\n",
            "Epoch 42/50\n",
            "4/4 [==============================] - 0s 12ms/step - loss: 0.1790 - accuracy: 0.9583 - val_loss: 0.2019 - val_accuracy: 0.9667\n",
            "Epoch 43/50\n",
            "4/4 [==============================] - 0s 12ms/step - loss: 0.1739 - accuracy: 0.9583 - val_loss: 0.2009 - val_accuracy: 0.9667\n",
            "Epoch 44/50\n",
            "4/4 [==============================] - 0s 12ms/step - loss: 0.1684 - accuracy: 0.9583 - val_loss: 0.1930 - val_accuracy: 0.9667\n",
            "Epoch 45/50\n",
            "4/4 [==============================] - 0s 12ms/step - loss: 0.1660 - accuracy: 0.9583 - val_loss: 0.1889 - val_accuracy: 0.9667\n",
            "Epoch 46/50\n",
            "4/4 [==============================] - 0s 12ms/step - loss: 0.1682 - accuracy: 0.9583 - val_loss: 0.1890 - val_accuracy: 0.9667\n",
            "Epoch 47/50\n",
            "4/4 [==============================] - 0s 12ms/step - loss: 0.1531 - accuracy: 0.9750 - val_loss: 0.1832 - val_accuracy: 0.9667\n",
            "Epoch 48/50\n",
            "4/4 [==============================] - 0s 14ms/step - loss: 0.1612 - accuracy: 0.9500 - val_loss: 0.1782 - val_accuracy: 0.9667\n",
            "Epoch 49/50\n",
            "4/4 [==============================] - 0s 13ms/step - loss: 0.1453 - accuracy: 0.9500 - val_loss: 0.1795 - val_accuracy: 0.9667\n",
            "Epoch 50/50\n",
            "4/4 [==============================] - 0s 13ms/step - loss: 0.1432 - accuracy: 0.9667 - val_loss: 0.1803 - val_accuracy: 0.9333\n"
          ],
          "name": "stdout"
        }
      ]
    },
    {
      "cell_type": "code",
      "metadata": {
        "id": "iwmx3QNm7tp6",
        "colab_type": "code",
        "outputId": "d90d1032-48bb-46fe-f0f8-0cff3b84ad7e",
        "colab": {
          "base_uri": "https://localhost:8080/",
          "height": 282
        }
      },
      "source": [
        "import matplotlib.pyplot as plt\n",
        "plt.plot(r.history[\"loss\"],label=\"loss\")\n",
        "plt.plot(r.history[\"val_loss\"],label=\"val_loss\")\n",
        "plt.legend()"
      ],
      "execution_count": 0,
      "outputs": [
        {
          "output_type": "execute_result",
          "data": {
            "text/plain": [
              "<matplotlib.legend.Legend at 0x7fcc488f5400>"
            ]
          },
          "metadata": {
            "tags": []
          },
          "execution_count": 19
        },
        {
          "output_type": "display_data",
          "data": {
            "image/png": "[encoded data removed]",
            "text/plain": [
              "<Figure size 432x288 with 1 Axes>"
            ]
          },
          "metadata": {
            "tags": [],
            "needs_background": "light"
          }
        }
      ]
    },
    {
      "cell_type": "code",
      "metadata": {
        "id": "sK4WHt298GPn",
        "colab_type": "code",
        "outputId": "a788a526-0576-4cd4-a68d-d93cfbcfb6fb",
        "colab": {
          "base_uri": "https://localhost:8080/",
          "height": 285
        }
      },
      "source": [
        "plt.plot(r.history[\"accuracy\"],label=\"acc\")\n",
        "plt.plot(r.history[\"val_accuracy\"],label=\"val_acc\")\n",
        "plt.legend()"
      ],
      "execution_count": 0,
      "outputs": [
        {
          "output_type": "execute_result",
          "data": {
            "text/plain": [
              "<matplotlib.legend.Legend at 0x7fcc489d1518>"
            ]
          },
          "metadata": {
            "tags": []
          },
          "execution_count": 20
        },
        {
          "output_type": "display_data",
          "data": {
            "image/png": "[encoded data removed]",
            "text/plain": [
              "<Figure size 432x288 with 1 Axes>"
            ]
          },
          "metadata": {
            "tags": [],
            "needs_background": "light"
          }
        }
      ]
    }
  ]
}